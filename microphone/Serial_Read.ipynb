{
 "cells": [
  {
   "cell_type": "code",
   "execution_count": 32,
   "id": "65a9cd54-ee01-416c-8e42-05802f36808d",
   "metadata": {},
   "outputs": [
    {
     "name": "stdout",
     "output_type": "stream",
     "text": [
      "Connected to Arduino on port: /dev/cu.usbmodem14201\n",
      "Serial connection closed.\n"
     ]
    }
   ],
   "source": [
    "import serial\n",
    "import time\n",
    "import csv\n",
    "\n",
    "# Configuration\n",
    "arduino_port = \"/dev/cu.usbmodem14201\"  # Replace with your Arduino port\n",
    "baud_rate = 9600                        # Match the Arduino baud rate\n",
    "timeout_duration = 60                   # Duration to read data in seconds\n",
    "csv_filename = \"sound_recordings.csv\"   # File to save the data\n",
    "\n",
    "# Initialize Serial Connection\n",
    "try:\n",
    "    ser = serial.Serial(arduino_port, baud_rate, timeout=1)\n",
    "    print(\"Connected to Arduino on port:\", arduino_port)\n",
    "except Exception as e:\n",
    "    print(\"Error connecting to Arduino:\", e)\n",
    "    exit()\n",
    "\n",
    "# Open CSV File for Writing\n",
    "with open(csv_filename, \"w\", newline=\"\") as file:\n",
    "    writer = csv.writer(file)\n",
    "    writer.writerow([\"Time (ms)\", \"Sound Level\"])  # Header row\n",
    "\n",
    "    # Start Reading Data\n",
    "    start_time = time.time()\n",
    "    try:\n",
    "        while time.time() - start_time < timeout_duration:\n",
    "            if ser.in_waiting > 0:\n",
    "                # Read sensor value from Arduino\n",
    "                sensor_value = ser.readline().decode('utf-8').strip()\n",
    "                try:\n",
    "                    sensor_value = int(sensor_value)  # Ensure it's an integer\n",
    "                except ValueError:\n",
    "                    continue  # Ignore invalid data\n",
    "\n",
    "                # Record timestamp and value\n",
    "                current_time = time.time() - start_time\n",
    "\n",
    "                # Save to CSV\n",
    "                writer.writerow([current_time, sensor_value])\n",
    "\n",
    "                # Print for Debugging\n",
    "                #print(f\"Time: {current_time:.2f}s, Sensor Value: {sensor_value}\")\n",
    "\n",
    "    except KeyboardInterrupt:\n",
    "        print(\"Reading stopped by user.\")\n",
    "    finally:\n",
    "        ser.close()\n",
    "        print(\"Serial connection closed.\")\n"
   ]
  },
  {
   "cell_type": "code",
   "execution_count": null,
   "id": "9b752642-6a6e-41e9-ae25-378e5a728e0b",
   "metadata": {},
   "outputs": [],
   "source": []
  },
  {
   "cell_type": "code",
   "execution_count": null,
   "id": "8c2ce83e-0157-4874-af5c-60f0e8a9743e",
   "metadata": {},
   "outputs": [],
   "source": []
  }
 ],
 "metadata": {
  "kernelspec": {
   "display_name": "Python 3 (ipykernel)",
   "language": "python",
   "name": "python3"
  },
  "language_info": {
   "codemirror_mode": {
    "name": "ipython",
    "version": 3
   },
   "file_extension": ".py",
   "mimetype": "text/x-python",
   "name": "python",
   "nbconvert_exporter": "python",
   "pygments_lexer": "ipython3",
   "version": "3.9.12"
  }
 },
 "nbformat": 4,
 "nbformat_minor": 5
}
